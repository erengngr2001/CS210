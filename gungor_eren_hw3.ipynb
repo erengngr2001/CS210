{
  "nbformat": 4,
  "nbformat_minor": 0,
  "metadata": {
    "colab": {
      "provenance": []
    },
    "kernelspec": {
      "name": "python3",
      "display_name": "Python 3"
    },
    "language_info": {
      "name": "python"
    }
  },
  "cells": [
    {
      "cell_type": "markdown",
      "source": [
        "# Homework 3: Kaggle ML & Data Science Survey\n",
        "\n",
        "\n",
        "**Submission Instructions**\n",
        "\n",
        "---\n",
        "It is important that you follow the submission instructions. \n",
        "1. Copy this assignment notebook to your Drive. <font color = 'red'> `File` --> `Save a copy in Drive`</font>. Rename it as <font color = 'green'>`Lastname_Firstname_hw3`</font>.\n",
        "\n",
        "2. Write your solutions in the cells  marked <font color = 'green'>`# your code`</font>.\n",
        "\n",
        "3. **Do not delete your outputs. They are essential for the grading. Make sure that cells containing your solutions are executed, and the results are displayed in the notebook.**\n",
        "\n",
        "4. When you're done, please submit your solutions as an <font color=\"red\">`.ipynb`</font> file. To do so:\n",
        "\n",
        "\n",
        "*   Click on <font color=\"red\">`File`</font>  at the top left on the Colab screen, then click on <font color = 'red'>`Download .ipynb`</font>.\n",
        "*   Then submit the downloaded <font color=\"red\">`.ipynb`</font> version of your work on SUCourse.\n",
        "\n",
        "For any question, you may send an email to the TAs and LAs.\n",
        "\n",
        "---"
      ],
      "metadata": {
        "id": "ID83Qf8PCvMg"
      }
    },
    {
      "cell_type": "markdown",
      "source": [
        "In this homework, you will work on a dataset about [2017 Kaggle Machine Learning & Data Science Survey](https://www.kaggle.com/datasets/kaggle/kaggle-survey-2017). Dataset contains information about an industry-wide survey conducted by Kaggle in 2017 to establish a comprehensive view of the state of data science and machine learning \n",
        "\n",
        "For this homework, you will use the provided file `Job_Satisfaction_Survey.csv`. This is a modified version of the original dataset.\n",
        "<!-- This is not the original data file, we modified and eliminated some parts. -->\n",
        "\n",
        "Below, you can find all the set of features, provided in the dataset:\n",
        "\n",
        "\n",
        "  1.   **ID:** Unique ID assigned by system\n",
        "\n",
        "  2.   **GenderSelect:** Select your gender identity. - Selected Choice\n",
        "\n",
        "  3.   **Country** Select the country you currently live in.\n",
        "\n",
        "  4.   **Age:** What's your age?\n",
        "  \n",
        "  5.   **CurrentJobTitleSelect:** Select the option that's most similar to your current job/professional title (or most recent title if retired). - Selected Choice\n",
        "  \n",
        "  6.   **LanguageRecommendationSelect:** What programming language would you recommend a new data scientist learn first? (Select one option) - Selected Choice\n",
        "  \n",
        "  7.   **FormalEducation:** Which level of formal education have you attained?\n",
        "\n",
        "  8.   **Tenure:** How long have you been writing code to analyze data?\n",
        "\n",
        "  9.   **MLSkillsSelect** In which areas of machine learning do you consider yourself competent? (Select all that apply) - Selected Choice\n",
        "\n",
        "  10.   **MLTechniquesSelect:** In which machine learning techniques do you consider yourself competent? (Select all that apply) - Selected Choice\n",
        "  \n",
        "  11.   **EmployerSize:** How many employees work at your current or most recent company?\n",
        "  \n",
        "  12.   **WorkChallengeFrequencyExplaining:** How often did you experience these barriers or challenges within the past year? - Explaining data science to others\n",
        "  \n",
        "  13.   **WorkChallengeFrequencyTalent:** How often did you experience these barriers or challenges within the past year? - Lack of data science talent in the organization\n",
        "\n",
        "  14.   **WorkChallengeFrequencyClarity:** How often did you experience these barriers or challenges within the past year? - The lack of a clear question to be answering\n",
        "\n",
        "  15.   **WorkChallengeFrequencyDataAccess** How often did you experience these barriers or challenges within the past year? - Unavailability of/difficult access to data\n",
        "\n",
        "  16.   **CompensationScore:** Indicator for compensation of the employee.\n",
        "  \n",
        "  17.   **RemoteWork:** How often do you work remotely?\n",
        "  \n",
        "  15.   **Continent** Select the continent you currently live in.\n",
        "\n",
        "  16.   **Income:** What is your income?\n",
        "  \n",
        "  17.   **IncomeCurrency:** How is your income paid? (Dollar or Euro)\n",
        "  \n",
        "  18.   **JobSatisfaction:** How satisfied are you with your current job? On a scale from 0 (Highly Dissatisfied) - 10 (Highly Satisfied)\n",
        "\n",
        "\n",
        "*Do not forget to add the shared `Job_Satisfaction_Survey.csv` file to your drive and mount to your drive. Otherwise, you won't be able to read the file.*\n",
        "\n"
      ],
      "metadata": {
        "id": "EeHOEHt7CzEC"
      }
    },
    {
      "cell_type": "code",
      "source": [
        "from google.colab import drive\n",
        "drive.mount(\"./drive\")"
      ],
      "metadata": {
        "colab": {
          "base_uri": "https://localhost:8080/"
        },
        "id": "Bo6joRJKCwNo",
        "outputId": "4c6b2581-10c0-403b-b137-1d02bde59e26"
      },
      "execution_count": null,
      "outputs": [
        {
          "output_type": "stream",
          "name": "stdout",
          "text": [
            "Mounted at ./drive\n"
          ]
        }
      ]
    },
    {
      "cell_type": "code",
      "source": [
        "import pandas as pd\n",
        "import numpy as np\n",
        "import matplotlib.pyplot as plt\n",
        "import seaborn as sns\n",
        "from os.path import join\n",
        "\n",
        "%matplotlib inline"
      ],
      "metadata": {
        "id": "6WCJoytsC3Pt"
      },
      "execution_count": null,
      "outputs": []
    },
    {
      "cell_type": "code",
      "source": [
        "fname = \"Job_Satisfaction_Survey.csv\"\n",
        "path_prefix = './drive/My Drive' # Change Here with the correct path\n",
        "df = pd.read_csv(join(path_prefix, fname))\n",
        "df.head(2)"
      ],
      "metadata": {
        "colab": {
          "base_uri": "https://localhost:8080/",
          "height": 309
        },
        "id": "s1Wv3mNGC4g5",
        "outputId": "e9b9808a-a556-406e-c2cb-7b3803ec964f"
      },
      "execution_count": null,
      "outputs": [
        {
          "output_type": "execute_result",
          "data": {
            "text/plain": [
              "   ID GenderSelect   Country   Age                 CurrentJobTitleSelect  \\\n",
              "0   1         Male  Pakistan  28.0  Software Developer/Software Engineer   \n",
              "1   2         Male    Mexico  26.0                    Computer Scientist   \n",
              "\n",
              "  LanguageRecommendationSelect    FormalEducation        Tenure  \\\n",
              "0                          SAS  Bachelor's degree  3 to 5 years   \n",
              "1                       Python    Master's degree  1 to 2 years   \n",
              "\n",
              "                                      MLSkillsSelect  \\\n",
              "0                                  Survival Analysis   \n",
              "1  Natural Language Processing,Supervised Machine...   \n",
              "\n",
              "                                  MLTechniquesSelect  ...  \\\n",
              "0  Hidden Markov Models HMMs,Logistic Regression,...  ...   \n",
              "1  Bayesian Techniques,Support Vector Machines (S...  ...   \n",
              "\n",
              "  WorkChallengeFrequencyTalent WorkChallengeFrequencyClarity  \\\n",
              "0                          NaN                           NaN   \n",
              "1                        Often                           NaN   \n",
              "\n",
              "  WorkChallengeFrequencyDataAccess CompensationScore WorkMLTeamSeatSelect  \\\n",
              "0                              NaN               8.0      Standalone Team   \n",
              "1                              NaN               NaN  Business Department   \n",
              "\n",
              "   RemoteWork JobSatisfaction Continent  Income IncomeCurrency  \n",
              "0         NaN               4       AS_  110077           euro  \n",
              "1         NaN               7       NA_  128111         dollar  \n",
              "\n",
              "[2 rows x 22 columns]"
            ],
            "text/html": [
              "\n",
              "  <div id=\"df-3b1c66f7-0a1f-4818-9cef-747c6397a119\">\n",
              "    <div class=\"colab-df-container\">\n",
              "      <div>\n",
              "<style scoped>\n",
              "    .dataframe tbody tr th:only-of-type {\n",
              "        vertical-align: middle;\n",
              "    }\n",
              "\n",
              "    .dataframe tbody tr th {\n",
              "        vertical-align: top;\n",
              "    }\n",
              "\n",
              "    .dataframe thead th {\n",
              "        text-align: right;\n",
              "    }\n",
              "</style>\n",
              "<table border=\"1\" class=\"dataframe\">\n",
              "  <thead>\n",
              "    <tr style=\"text-align: right;\">\n",
              "      <th></th>\n",
              "      <th>ID</th>\n",
              "      <th>GenderSelect</th>\n",
              "      <th>Country</th>\n",
              "      <th>Age</th>\n",
              "      <th>CurrentJobTitleSelect</th>\n",
              "      <th>LanguageRecommendationSelect</th>\n",
              "      <th>FormalEducation</th>\n",
              "      <th>Tenure</th>\n",
              "      <th>MLSkillsSelect</th>\n",
              "      <th>MLTechniquesSelect</th>\n",
              "      <th>...</th>\n",
              "      <th>WorkChallengeFrequencyTalent</th>\n",
              "      <th>WorkChallengeFrequencyClarity</th>\n",
              "      <th>WorkChallengeFrequencyDataAccess</th>\n",
              "      <th>CompensationScore</th>\n",
              "      <th>WorkMLTeamSeatSelect</th>\n",
              "      <th>RemoteWork</th>\n",
              "      <th>JobSatisfaction</th>\n",
              "      <th>Continent</th>\n",
              "      <th>Income</th>\n",
              "      <th>IncomeCurrency</th>\n",
              "    </tr>\n",
              "  </thead>\n",
              "  <tbody>\n",
              "    <tr>\n",
              "      <th>0</th>\n",
              "      <td>1</td>\n",
              "      <td>Male</td>\n",
              "      <td>Pakistan</td>\n",
              "      <td>28.0</td>\n",
              "      <td>Software Developer/Software Engineer</td>\n",
              "      <td>SAS</td>\n",
              "      <td>Bachelor's degree</td>\n",
              "      <td>3 to 5 years</td>\n",
              "      <td>Survival Analysis</td>\n",
              "      <td>Hidden Markov Models HMMs,Logistic Regression,...</td>\n",
              "      <td>...</td>\n",
              "      <td>NaN</td>\n",
              "      <td>NaN</td>\n",
              "      <td>NaN</td>\n",
              "      <td>8.0</td>\n",
              "      <td>Standalone Team</td>\n",
              "      <td>NaN</td>\n",
              "      <td>4</td>\n",
              "      <td>AS_</td>\n",
              "      <td>110077</td>\n",
              "      <td>euro</td>\n",
              "    </tr>\n",
              "    <tr>\n",
              "      <th>1</th>\n",
              "      <td>2</td>\n",
              "      <td>Male</td>\n",
              "      <td>Mexico</td>\n",
              "      <td>26.0</td>\n",
              "      <td>Computer Scientist</td>\n",
              "      <td>Python</td>\n",
              "      <td>Master's degree</td>\n",
              "      <td>1 to 2 years</td>\n",
              "      <td>Natural Language Processing,Supervised Machine...</td>\n",
              "      <td>Bayesian Techniques,Support Vector Machines (S...</td>\n",
              "      <td>...</td>\n",
              "      <td>Often</td>\n",
              "      <td>NaN</td>\n",
              "      <td>NaN</td>\n",
              "      <td>NaN</td>\n",
              "      <td>Business Department</td>\n",
              "      <td>NaN</td>\n",
              "      <td>7</td>\n",
              "      <td>NA_</td>\n",
              "      <td>128111</td>\n",
              "      <td>dollar</td>\n",
              "    </tr>\n",
              "  </tbody>\n",
              "</table>\n",
              "<p>2 rows × 22 columns</p>\n",
              "</div>\n",
              "      <button class=\"colab-df-convert\" onclick=\"convertToInteractive('df-3b1c66f7-0a1f-4818-9cef-747c6397a119')\"\n",
              "              title=\"Convert this dataframe to an interactive table.\"\n",
              "              style=\"display:none;\">\n",
              "        \n",
              "  <svg xmlns=\"http://www.w3.org/2000/svg\" height=\"24px\"viewBox=\"0 0 24 24\"\n",
              "       width=\"24px\">\n",
              "    <path d=\"M0 0h24v24H0V0z\" fill=\"none\"/>\n",
              "    <path d=\"M18.56 5.44l.94 2.06.94-2.06 2.06-.94-2.06-.94-.94-2.06-.94 2.06-2.06.94zm-11 1L8.5 8.5l.94-2.06 2.06-.94-2.06-.94L8.5 2.5l-.94 2.06-2.06.94zm10 10l.94 2.06.94-2.06 2.06-.94-2.06-.94-.94-2.06-.94 2.06-2.06.94z\"/><path d=\"M17.41 7.96l-1.37-1.37c-.4-.4-.92-.59-1.43-.59-.52 0-1.04.2-1.43.59L10.3 9.45l-7.72 7.72c-.78.78-.78 2.05 0 2.83L4 21.41c.39.39.9.59 1.41.59.51 0 1.02-.2 1.41-.59l7.78-7.78 2.81-2.81c.8-.78.8-2.07 0-2.86zM5.41 20L4 18.59l7.72-7.72 1.47 1.35L5.41 20z\"/>\n",
              "  </svg>\n",
              "      </button>\n",
              "      \n",
              "  <style>\n",
              "    .colab-df-container {\n",
              "      display:flex;\n",
              "      flex-wrap:wrap;\n",
              "      gap: 12px;\n",
              "    }\n",
              "\n",
              "    .colab-df-convert {\n",
              "      background-color: #E8F0FE;\n",
              "      border: none;\n",
              "      border-radius: 50%;\n",
              "      cursor: pointer;\n",
              "      display: none;\n",
              "      fill: #1967D2;\n",
              "      height: 32px;\n",
              "      padding: 0 0 0 0;\n",
              "      width: 32px;\n",
              "    }\n",
              "\n",
              "    .colab-df-convert:hover {\n",
              "      background-color: #E2EBFA;\n",
              "      box-shadow: 0px 1px 2px rgba(60, 64, 67, 0.3), 0px 1px 3px 1px rgba(60, 64, 67, 0.15);\n",
              "      fill: #174EA6;\n",
              "    }\n",
              "\n",
              "    [theme=dark] .colab-df-convert {\n",
              "      background-color: #3B4455;\n",
              "      fill: #D2E3FC;\n",
              "    }\n",
              "\n",
              "    [theme=dark] .colab-df-convert:hover {\n",
              "      background-color: #434B5C;\n",
              "      box-shadow: 0px 1px 3px 1px rgba(0, 0, 0, 0.15);\n",
              "      filter: drop-shadow(0px 1px 2px rgba(0, 0, 0, 0.3));\n",
              "      fill: #FFFFFF;\n",
              "    }\n",
              "  </style>\n",
              "\n",
              "      <script>\n",
              "        const buttonEl =\n",
              "          document.querySelector('#df-3b1c66f7-0a1f-4818-9cef-747c6397a119 button.colab-df-convert');\n",
              "        buttonEl.style.display =\n",
              "          google.colab.kernel.accessAllowed ? 'block' : 'none';\n",
              "\n",
              "        async function convertToInteractive(key) {\n",
              "          const element = document.querySelector('#df-3b1c66f7-0a1f-4818-9cef-747c6397a119');\n",
              "          const dataTable =\n",
              "            await google.colab.kernel.invokeFunction('convertToInteractive',\n",
              "                                                     [key], {});\n",
              "          if (!dataTable) return;\n",
              "\n",
              "          const docLinkHtml = 'Like what you see? Visit the ' +\n",
              "            '<a target=\"_blank\" href=https://colab.research.google.com/notebooks/data_table.ipynb>data table notebook</a>'\n",
              "            + ' to learn more about interactive tables.';\n",
              "          element.innerHTML = '';\n",
              "          dataTable['output_type'] = 'display_data';\n",
              "          await google.colab.output.renderOutput(dataTable, element);\n",
              "          const docLink = document.createElement('div');\n",
              "          docLink.innerHTML = docLinkHtml;\n",
              "          element.appendChild(docLink);\n",
              "        }\n",
              "      </script>\n",
              "    </div>\n",
              "  </div>\n",
              "  "
            ]
          },
          "metadata": {},
          "execution_count": 3
        }
      ]
    },
    {
      "cell_type": "markdown",
      "source": [
        "## Q1: Removing Columns with High Missing Values (15 points)"
      ],
      "metadata": {
        "id": "-Cs-E-n0C61S"
      }
    },
    {
      "cell_type": "markdown",
      "source": [
        "It is not possible to find a perfect dataset. During data collection, some values can be lost. These lost values are called as missing values. In the DataFrame, missing values are usually labelled as `NaN`.\n",
        "\n",
        "In this question, you will remove the columns which contain high number of missing values. If the missing value percentage in a column is greater than or equal to 20%, you will drop that column. \n",
        "* First, print the shape (Number of rows and columns) of the dataset.\n",
        "* Secondly, if missing value percentage in a column is greater than or equal to 20%, print the name of the column and the percentage of missing values in that column. Also, remove this column from dataset.\n",
        "* Lastly, after removing columns, print the number of remaining columns in the dataset.\n",
        "\n",
        "Your output should be like:\n",
        "```\n",
        "Initially, there are [...] rows and [...] columns\n",
        "\n",
        "[...]% of the values are missing in [...] column\n",
        ".\n",
        ".\n",
        ".\n",
        "\n",
        "After removing columns with high missing value percentage, there are [...] columns \n",
        "```"
      ],
      "metadata": {
        "id": "jRt8neFeC79f"
      }
    },
    {
      "cell_type": "code",
      "source": [
        "# Your Code\n",
        "df = pd.read_csv(join(path_prefix, fname))\n",
        "\n",
        "nanColList = []\n",
        "\n",
        "print(\"Initially, there are {} rows and {} columns\".format(df.shape[0], df.shape[1]))\n",
        "print()\n",
        "for i in range(df.shape[1]):\n",
        "  nanCount = df.iloc[:, i].isnull().sum()\n",
        "  if nanCount >= (df.shape[0]*0.2):\n",
        "    nanPercentage = nanCount*100/df.shape[0]\n",
        "    print(\"{}% of the values are missing in {} column\".format( \"%.2f\" % nanPercentage, df.columns[i] ))\n",
        "    nanColList.append(i)\n",
        "\n",
        "nanColList.reverse()\n",
        "for i in nanColList:\n",
        "  df.pop(df.columns[i])\n",
        "\n",
        "print()\n",
        "print(\"After removing columns with high missing value percentage, there are {} colums\".format(df.shape[1]))"
      ],
      "metadata": {
        "id": "jYB3K8XzC7Ql",
        "colab": {
          "base_uri": "https://localhost:8080/"
        },
        "outputId": "66520cd1-fb4b-41fe-b55f-7ef570e42814"
      },
      "execution_count": null,
      "outputs": [
        {
          "output_type": "stream",
          "name": "stdout",
          "text": [
            "Initially, there are 5450 rows and 22 columns\n",
            "\n",
            "77.45% of the values are missing in WorkChallengeFrequencyExplaining column\n",
            "57.25% of the values are missing in WorkChallengeFrequencyTalent column\n",
            "68.88% of the values are missing in WorkChallengeFrequencyClarity column\n",
            "68.90% of the values are missing in WorkChallengeFrequencyDataAccess column\n",
            "20.83% of the values are missing in CompensationScore column\n",
            "\n",
            "After removing columns with high missing value percentage, there are 17 colums\n"
          ]
        }
      ]
    },
    {
      "cell_type": "markdown",
      "source": [
        "## Q2: Calculating Skill Amounts (15 points)"
      ],
      "metadata": {
        "id": "6hhFHrfvDBkR"
      }
    },
    {
      "cell_type": "markdown",
      "source": [
        "In the survey, people were asked in which area of machine learning (`MLSkillsSelect`) and which machine learning technique (`MLTechniquesSelect`) they consider themselves more competent. Some people gave one answer, but others gave a lot of answers separated by commas.\n",
        "\n",
        "In this question, your task is to:\n",
        "\n",
        "- Create two new column called `MLSkillsSelect_Amount` and `MLTechniquesSelect_Amount` which will store the number of answers given in `MLSkillsSelect` and `MLTechniquesSelect` respectively.\n",
        "- Then, print basic statistics (mean, std, min, max, etc.) on these two columns. Remember that there is function that you can use to achieve this goal.\n",
        "\n",
        "\n",
        "Your answer should be exactly same as the figure below:\n",
        "\n",
        "<img src=\"https://i.ibb.co/FKwc5BR/describe-plot.png\" alt=\"describe-plot\" border=\"0\" width=\"400\">\n",
        "\n",
        "\n"
      ],
      "metadata": {
        "id": "4eu9Vnt9DCD-"
      }
    },
    {
      "cell_type": "code",
      "source": [
        "# Your Code\n",
        "MLSkillsSelect_Amount = [] #skill at 8th index\n",
        "MLTechniquesSelect_Amount = [] #technique at 9th index\n",
        "\n",
        "for i in range(df.shape[0]):\n",
        "  if not pd.isna(df.loc[i][8]):\n",
        "    MLSkillsSelect_Amount.append( len(list(df.loc[i])[8].split(\",\")) )\n",
        "  else: \n",
        "    MLSkillsSelect_Amount.append(0)\n",
        "  if not pd.isna(df.loc[i][9]):\n",
        "    MLTechniquesSelect_Amount.append( len(list(df.loc[i])[9].split(\",\")) )\n",
        "  else: \n",
        "    MLTechniquesSelect_Amount.append(0)\n",
        "\n",
        "df[\"MLSkillsSelect_Amount\"] = MLSkillsSelect_Amount\n",
        "df[\"MLTechniquesSelect_Amount\"] = MLTechniquesSelect_Amount\n",
        "skillTable = df[\"MLSkillsSelect_Amount\"].describe()\n",
        "techniqueTable = df[\"MLTechniquesSelect_Amount\"].describe()\n",
        "\n",
        "pd.merge(skillTable, techniqueTable, left_index=True, right_index=True)"
      ],
      "metadata": {
        "id": "nkZNgiH4DFZf",
        "colab": {
          "base_uri": "https://localhost:8080/",
          "height": 300
        },
        "outputId": "e83b47b9-2976-4ec1-8ff2-68b96cfe120a"
      },
      "execution_count": null,
      "outputs": [
        {
          "output_type": "execute_result",
          "data": {
            "text/plain": [
              "       MLSkillsSelect_Amount  MLTechniquesSelect_Amount\n",
              "count            5450.000000                5450.000000\n",
              "mean                2.648991                   4.164954\n",
              "std                 1.691120                   2.735368\n",
              "min                 0.000000                   0.000000\n",
              "25%                 1.000000                   2.000000\n",
              "50%                 2.000000                   4.000000\n",
              "75%                 4.000000                   6.000000\n",
              "max                13.000000                  14.000000"
            ],
            "text/html": [
              "\n",
              "  <div id=\"df-781fbd2d-2cc3-48d3-8692-411c1cc82c02\">\n",
              "    <div class=\"colab-df-container\">\n",
              "      <div>\n",
              "<style scoped>\n",
              "    .dataframe tbody tr th:only-of-type {\n",
              "        vertical-align: middle;\n",
              "    }\n",
              "\n",
              "    .dataframe tbody tr th {\n",
              "        vertical-align: top;\n",
              "    }\n",
              "\n",
              "    .dataframe thead th {\n",
              "        text-align: right;\n",
              "    }\n",
              "</style>\n",
              "<table border=\"1\" class=\"dataframe\">\n",
              "  <thead>\n",
              "    <tr style=\"text-align: right;\">\n",
              "      <th></th>\n",
              "      <th>MLSkillsSelect_Amount</th>\n",
              "      <th>MLTechniquesSelect_Amount</th>\n",
              "    </tr>\n",
              "  </thead>\n",
              "  <tbody>\n",
              "    <tr>\n",
              "      <th>count</th>\n",
              "      <td>5450.000000</td>\n",
              "      <td>5450.000000</td>\n",
              "    </tr>\n",
              "    <tr>\n",
              "      <th>mean</th>\n",
              "      <td>2.648991</td>\n",
              "      <td>4.164954</td>\n",
              "    </tr>\n",
              "    <tr>\n",
              "      <th>std</th>\n",
              "      <td>1.691120</td>\n",
              "      <td>2.735368</td>\n",
              "    </tr>\n",
              "    <tr>\n",
              "      <th>min</th>\n",
              "      <td>0.000000</td>\n",
              "      <td>0.000000</td>\n",
              "    </tr>\n",
              "    <tr>\n",
              "      <th>25%</th>\n",
              "      <td>1.000000</td>\n",
              "      <td>2.000000</td>\n",
              "    </tr>\n",
              "    <tr>\n",
              "      <th>50%</th>\n",
              "      <td>2.000000</td>\n",
              "      <td>4.000000</td>\n",
              "    </tr>\n",
              "    <tr>\n",
              "      <th>75%</th>\n",
              "      <td>4.000000</td>\n",
              "      <td>6.000000</td>\n",
              "    </tr>\n",
              "    <tr>\n",
              "      <th>max</th>\n",
              "      <td>13.000000</td>\n",
              "      <td>14.000000</td>\n",
              "    </tr>\n",
              "  </tbody>\n",
              "</table>\n",
              "</div>\n",
              "      <button class=\"colab-df-convert\" onclick=\"convertToInteractive('df-781fbd2d-2cc3-48d3-8692-411c1cc82c02')\"\n",
              "              title=\"Convert this dataframe to an interactive table.\"\n",
              "              style=\"display:none;\">\n",
              "        \n",
              "  <svg xmlns=\"http://www.w3.org/2000/svg\" height=\"24px\"viewBox=\"0 0 24 24\"\n",
              "       width=\"24px\">\n",
              "    <path d=\"M0 0h24v24H0V0z\" fill=\"none\"/>\n",
              "    <path d=\"M18.56 5.44l.94 2.06.94-2.06 2.06-.94-2.06-.94-.94-2.06-.94 2.06-2.06.94zm-11 1L8.5 8.5l.94-2.06 2.06-.94-2.06-.94L8.5 2.5l-.94 2.06-2.06.94zm10 10l.94 2.06.94-2.06 2.06-.94-2.06-.94-.94-2.06-.94 2.06-2.06.94z\"/><path d=\"M17.41 7.96l-1.37-1.37c-.4-.4-.92-.59-1.43-.59-.52 0-1.04.2-1.43.59L10.3 9.45l-7.72 7.72c-.78.78-.78 2.05 0 2.83L4 21.41c.39.39.9.59 1.41.59.51 0 1.02-.2 1.41-.59l7.78-7.78 2.81-2.81c.8-.78.8-2.07 0-2.86zM5.41 20L4 18.59l7.72-7.72 1.47 1.35L5.41 20z\"/>\n",
              "  </svg>\n",
              "      </button>\n",
              "      \n",
              "  <style>\n",
              "    .colab-df-container {\n",
              "      display:flex;\n",
              "      flex-wrap:wrap;\n",
              "      gap: 12px;\n",
              "    }\n",
              "\n",
              "    .colab-df-convert {\n",
              "      background-color: #E8F0FE;\n",
              "      border: none;\n",
              "      border-radius: 50%;\n",
              "      cursor: pointer;\n",
              "      display: none;\n",
              "      fill: #1967D2;\n",
              "      height: 32px;\n",
              "      padding: 0 0 0 0;\n",
              "      width: 32px;\n",
              "    }\n",
              "\n",
              "    .colab-df-convert:hover {\n",
              "      background-color: #E2EBFA;\n",
              "      box-shadow: 0px 1px 2px rgba(60, 64, 67, 0.3), 0px 1px 3px 1px rgba(60, 64, 67, 0.15);\n",
              "      fill: #174EA6;\n",
              "    }\n",
              "\n",
              "    [theme=dark] .colab-df-convert {\n",
              "      background-color: #3B4455;\n",
              "      fill: #D2E3FC;\n",
              "    }\n",
              "\n",
              "    [theme=dark] .colab-df-convert:hover {\n",
              "      background-color: #434B5C;\n",
              "      box-shadow: 0px 1px 3px 1px rgba(0, 0, 0, 0.15);\n",
              "      filter: drop-shadow(0px 1px 2px rgba(0, 0, 0, 0.3));\n",
              "      fill: #FFFFFF;\n",
              "    }\n",
              "  </style>\n",
              "\n",
              "      <script>\n",
              "        const buttonEl =\n",
              "          document.querySelector('#df-781fbd2d-2cc3-48d3-8692-411c1cc82c02 button.colab-df-convert');\n",
              "        buttonEl.style.display =\n",
              "          google.colab.kernel.accessAllowed ? 'block' : 'none';\n",
              "\n",
              "        async function convertToInteractive(key) {\n",
              "          const element = document.querySelector('#df-781fbd2d-2cc3-48d3-8692-411c1cc82c02');\n",
              "          const dataTable =\n",
              "            await google.colab.kernel.invokeFunction('convertToInteractive',\n",
              "                                                     [key], {});\n",
              "          if (!dataTable) return;\n",
              "\n",
              "          const docLinkHtml = 'Like what you see? Visit the ' +\n",
              "            '<a target=\"_blank\" href=https://colab.research.google.com/notebooks/data_table.ipynb>data table notebook</a>'\n",
              "            + ' to learn more about interactive tables.';\n",
              "          element.innerHTML = '';\n",
              "          dataTable['output_type'] = 'display_data';\n",
              "          await google.colab.output.renderOutput(dataTable, element);\n",
              "          const docLink = document.createElement('div');\n",
              "          docLink.innerHTML = docLinkHtml;\n",
              "          element.appendChild(docLink);\n",
              "        }\n",
              "      </script>\n",
              "    </div>\n",
              "  </div>\n",
              "  "
            ]
          },
          "metadata": {},
          "execution_count": 5
        }
      ]
    },
    {
      "cell_type": "markdown",
      "source": [
        "## Q3: How do Age and Education Level Affect Income? (35 points)"
      ],
      "metadata": {
        "id": "JdfxutgvDJY2"
      }
    },
    {
      "cell_type": "markdown",
      "source": [
        "In the survey, people were asked about their annual earnings. However, while some of these earnings are in dollars, some of them are in euros. When examining this information, it would be good to convert them all to the same currency.\n",
        "\n",
        "In addition, it seems that there are different values in the age column which you can see in the box plot below.\n",
        "\n",
        "<img src=\"https://i.ibb.co/wchknnn/boxplot-210.png\" alt=\"boxplot-210\" border=\"0\" width=\"350\">"
      ],
      "metadata": {
        "id": "KtM4m-QxDJpy"
      }
    },
    {
      "cell_type": "markdown",
      "source": [
        "## Q3 Part A: Currency Conversion & Age Grouping (25 Points)"
      ],
      "metadata": {
        "id": "pcS53Y6-DNYs"
      }
    },
    {
      "cell_type": "markdown",
      "source": [
        "In this question, your task is to:\n",
        "\n",
        "- Create a new column called `Income_Dollar` which will store all of the Incomes in dollar. (Take 1 Euro = 1.04 USD)\n",
        "- Then, take only those over 18 (Included) and younger than 65 (Not Included) from the data. You can filter the existing data, create new data or delete from data. You will use this new data in questions after this question.\n",
        "- Print the new number of rows after filtering Age column. \n",
        "\n",
        "Your output should be like\n",
        "```\n",
        "Number of rows after filtering Age column is [...]\n",
        "```\n",
        "\n",
        "- Finally, create a new column named `Age_Group` that contains age information in groups as string. \n",
        "- The Age Groups will be:\n",
        "    - '[18-30)' (This means if age between 18 and 30, 30 is not included, Age_Group value will be '[18-30)' as string)\n",
        "    - '[30-45)'\n",
        "    - '[45-55)'\n",
        "    - '[55-65)'"
      ],
      "metadata": {
        "id": "QmVhyJXjDPsd"
      }
    },
    {
      "cell_type": "code",
      "source": [
        "# Your Code\n",
        "Income_Dollar = []\n",
        "for i in range(df.shape[0]):\n",
        "  if \"euro\" == df.iloc[:,16][i]:\n",
        "    Income_Dollar.append( (df.iloc[:,15][i])*1.04 )\n",
        "  else:\n",
        "    Income_Dollar.append( df.iloc[:,15][i] )\n",
        "\n",
        "df[\"Income_Dollar\"] = Income_Dollar\n",
        "\n",
        "new_df = df[(18 <= df['Age']) & (df['Age'] < 65)] \n",
        "new_df = new_df.reset_index(drop=True)\n",
        "\n",
        "print(\"Number of rows after filtering Age column is {}\".format(new_df.shape[0]))\n",
        "\n",
        "Age_Group = []\n",
        "for i in range(new_df.shape[0]):\n",
        "  if 30 > (new_df.iloc[:,3][i]) >= 18:\n",
        "    Age_Group.append(\"[18-30)\")\n",
        "  elif 45 > new_df.iloc[:,3][i] >= 30:\n",
        "    Age_Group.append(\"[30-45)\")  \n",
        "  elif 55 > new_df.iloc[:,3][i] >= 45:\n",
        "    Age_Group.append(\"[45-55)\")  \n",
        "  elif 65 > new_df.iloc[:,3][i] >= 55:\n",
        "    Age_Group.append(\"[55-65)\")  \n",
        "\n",
        "new_df[\"Age_Group\"] = Age_Group\n",
        "print(\"\\n{}\".format(new_df[\"Age_Group\"]))"
      ],
      "metadata": {
        "id": "W00g5oiNDR1Y",
        "colab": {
          "base_uri": "https://localhost:8080/"
        },
        "outputId": "b307e139-a5be-45de-c196-bcf4b5391899"
      },
      "execution_count": null,
      "outputs": [
        {
          "output_type": "stream",
          "name": "stdout",
          "text": [
            "Number of rows after filtering Age column is 5343\n",
            "\n",
            "0       [18-30)\n",
            "1       [18-30)\n",
            "2       [30-45)\n",
            "3       [30-45)\n",
            "4       [30-45)\n",
            "         ...   \n",
            "5338    [45-55)\n",
            "5339    [18-30)\n",
            "5340    [30-45)\n",
            "5341    [18-30)\n",
            "5342    [30-45)\n",
            "Name: Age_Group, Length: 5343, dtype: object\n"
          ]
        }
      ]
    },
    {
      "cell_type": "markdown",
      "source": [
        "## Q3 Part B: Plotting (10 Points)"
      ],
      "metadata": {
        "id": "qqdn92uIDVZK"
      }
    },
    {
      "cell_type": "markdown",
      "source": [
        "In the previous part, all income information was converted to dollars and age information was grouped. Using these information, let's examine the relationship between the education level, income and age groups of the people surveyed.\n",
        "\n",
        "In this question, your task is to:\n",
        "\n",
        "- Plot the average `Income_Dollar` of each `FormalEducation` as bar chart and use `Age_Group` as color encoding.\n",
        "- `FormalEducation` names in X axis should be rotated by 30 degrees\n",
        "- Set the figure size as (10,6)\n",
        "- Don' forget to add **legend** to show color representing Age Groups and add **title**\n",
        "\n",
        "The result should be exactly same as the figure below.\n",
        "\n",
        "<img src=\"https://i.ibb.co/9gf8mwN/barplot-210.png\" alt=\"barplot-210\" border=\"0\" width=\"500\">"
      ],
      "metadata": {
        "id": "IEOrtonCDVwT"
      }
    },
    {
      "cell_type": "code",
      "source": [
        "edu_df = new_df[[\"FormalEducation\", \"Income_Dollar\", \"Age_Group\"]]\n",
        "\n",
        "bac_df = edu_df[edu_df[\"FormalEducation\"] == \"Bachelor's degree\"]\n",
        "mas_df = edu_df[edu_df[\"FormalEducation\"] == \"Master's degree\"]\n",
        "doc_df = edu_df[edu_df[\"FormalEducation\"] == \"Doctoral degree\"]\n",
        "other_df = edu_df[edu_df[\"FormalEducation\"] == \"Other\"]\n",
        "\n",
        "df1 = [bac_df[bac_df[\"Age_Group\"] == \"[18-30)\"][\"Income_Dollar\"].mean(), bac_df[bac_df[\"Age_Group\"] == \"[30-45)\"][\"Income_Dollar\"].mean(), bac_df[bac_df[\"Age_Group\"] == \"[45-55)\"][\"Income_Dollar\"].mean(), bac_df[bac_df[\"Age_Group\"] == \"[55-65)\"][\"Income_Dollar\"].mean()]\n",
        "df2 = [mas_df[mas_df[\"Age_Group\"] == \"[18-30)\"][\"Income_Dollar\"].mean(), mas_df[mas_df[\"Age_Group\"] == \"[30-45)\"][\"Income_Dollar\"].mean(), mas_df[mas_df[\"Age_Group\"] == \"[45-55)\"][\"Income_Dollar\"].mean(), mas_df[mas_df[\"Age_Group\"] == \"[55-65)\"][\"Income_Dollar\"].mean()]\n",
        "df3 = [doc_df[doc_df[\"Age_Group\"] == \"[18-30)\"][\"Income_Dollar\"].mean(), doc_df[doc_df[\"Age_Group\"] == \"[30-45)\"][\"Income_Dollar\"].mean(), doc_df[doc_df[\"Age_Group\"] == \"[45-55)\"][\"Income_Dollar\"].mean(), doc_df[doc_df[\"Age_Group\"] == \"[55-65)\"][\"Income_Dollar\"].mean()]\n",
        "df4 = [other_df[other_df[\"Age_Group\"] == \"[18-30)\"][\"Income_Dollar\"].mean(), other_df[other_df[\"Age_Group\"] == \"[30-45)\"][\"Income_Dollar\"].mean(), other_df[other_df[\"Age_Group\"] == \"[45-55)\"][\"Income_Dollar\"].mean(), other_df[other_df[\"Age_Group\"] == \"[55-65)\"][\"Income_Dollar\"].mean()]\n",
        "\n",
        "plotdata = pd.DataFrame({ \"[18-30)\": df1,\n",
        "                          \"[30-45)\": df2, \n",
        "                          \"[45-55)\": df3,\n",
        "                          \"[55-65)\": df4},\n",
        "                        index=[\"Bachelor's degree\", \"Master's degree\", \"Doctoral degree\", \"Other\"])\n",
        "\n",
        "N = 4\n",
        "ind = np.arange(N) \n",
        "width = 0.2\n",
        "\n",
        "fig = plt.subplots(1,1,figsize=(10,6))\n",
        "bar1 = plt.bar(ind, list(plotdata.loc[\"Bachelor's degree\"]), width, color=\"b\")\n",
        "bar2 = plt.bar(ind+width, list(plotdata.loc[\"Master's degree\"]), width, color=\"orange\")\n",
        "bar3 = plt.bar(ind+width*2, list(plotdata.loc[\"Doctoral degree\"]), width, color=\"g\")\n",
        "bar4 = plt.bar(ind+width*3, list(plotdata.loc[\"Other\"]), width, color=\"r\")\n",
        "\n",
        "plt.title(\"Mean Income of People From Different Education Level\")\n",
        "plt.legend( (bar1, bar2, bar3, bar4), (\"[18-30)\", \"[30-45)\", \"[45-55)\", \"[55-65)\"), title=\"Age_Group\" )\n",
        "plt.xticks(ind+width*1.5, [\"Bachelor's degree\", \"Master's degree\", \"Doctoral degree\", \"Other\"], rotation=30)\n",
        "plt.xlabel(\"FormalEducation\")\n",
        "plt.ylabel(\"Income_Dollars\")\n",
        "\n",
        "plt.show()"
      ],
      "metadata": {
        "id": "26zxJHoiX4-w",
        "colab": {
          "base_uri": "https://localhost:8080/",
          "height": 448
        },
        "outputId": "f76eaec2-6b17-4df5-ba86-a59f95bfeabc"
      },
      "execution_count": null,
      "outputs": [
        {
          "output_type": "display_data",
          "data": {
            "text/plain": [
              "<Figure size 720x432 with 1 Axes>"
            ],
            "image/png": "[encoded data removed]"
          },
          "metadata": {
            "needs_background": "light"
          }
        }
      ]
    },
    {
      "cell_type": "markdown",
      "source": [
        "## Q4: Correlation of Features (10 points)"
      ],
      "metadata": {
        "id": "w4yWLq2TDbO2"
      }
    },
    {
      "cell_type": "markdown",
      "source": [
        "In this question, you will check the correlation between each numerical feature in dataset. Your task is to create a heatmap to display correlations. \n",
        "\n",
        "* You should display a colorbar right next to figure.\n",
        "* Annotate the heatmap with the correlation values for each pair. \n",
        "* Rotate the labels in X axis by 90 degrees to prevent overlapping.\n",
        "* Set the figure size as (10,6)\n",
        "\n",
        "The result should be exactly same as the figure below.\n",
        "\n",
        "<img src=\"https://i.ibb.co/LSnPJyS/correlation-210.png\" alt=\"correlation-210\" border=\"0\" width=\"600\">"
      ],
      "metadata": {
        "id": "DPCNor0BDbdw"
      }
    },
    {
      "cell_type": "code",
      "source": [
        "import matplotlib.pyplot as plt\n",
        "import seaborn as sb"
      ],
      "metadata": {
        "id": "JtCkjXgvbMm8"
      },
      "execution_count": null,
      "outputs": []
    },
    {
      "cell_type": "code",
      "source": [
        "# Your Code\n",
        "heatmap_df = new_df.drop([\"ID\", \"Income\"], axis=1)\n",
        "heatmap_df = heatmap_df[[\"Age\", \"JobSatisfaction\", \"Income_Dollar\", \"MLSkillsSelect_Amount\", \"MLTechniquesSelect_Amount\"]]\n",
        "plt.figure(figsize=(10, 6))\n",
        "dataplot = sb.heatmap(heatmap_df.corr(), annot=True)\n",
        "dataplot.set_title('Correlation of Features')\n",
        "\n",
        "plt.show()"
      ],
      "metadata": {
        "id": "l8PTI1mFDfZd",
        "colab": {
          "base_uri": "https://localhost:8080/",
          "height": 523
        },
        "outputId": "3ec5d08b-7499-43f9-eb18-307eb7a4fca3"
      },
      "execution_count": null,
      "outputs": [
        {
          "output_type": "display_data",
          "data": {
            "text/plain": [
              "<Figure size 720x432 with 2 Axes>"
            ],
            "image/png": "[encoded data removed]"
          },
          "metadata": {
            "needs_background": "light"
          }
        }
      ]
    },
    {
      "cell_type": "markdown",
      "source": [
        "## Q5: Plotting Job Satisfaction Around the World (25 points)"
      ],
      "metadata": {
        "id": "LMmvba_WDiuM"
      }
    },
    {
      "cell_type": "markdown",
      "source": [
        "In the dataset, `Country` column indicates where people lives. Your task in this question is to use `GeoPandas` library to display the average Job Satisfaction on a world map. \n",
        "\n",
        "* In the cell below, you can find a `GeoDataFrame` object that contains country names (column `name`) and geometric information (column `geometry`) for each contry. \n",
        "* Iterate over `GeoDataFrame` object. For each country, find the average `Job Satisfaction` in the original dataset.\n",
        "* Lastly, plot country averages on a world map. Some countries in the `GeoDataFrame` object will have 0 as average value since they do not exist in `Country` column. These countries will be automatically discarded by `GeoPandas` so they will not be shown on the world map. In order to prevent this, use `missing_kwds` parameter to set a default color for as 'lightgrey' these countries. \n",
        "\n",
        "\n",
        "The result should be exactly same as the figure below. You can set `cmap='OrRd'` for the color map and `figsize=(20,5)` for the figure size. Do not forget to add legend next to the world map.\n",
        "\n",
        "<img src=\"https://i.ibb.co/Pc1Dn33/worldmap-210.png\" alt=\"worldmap-210\" border=\"0\" width=\"700\">"
      ],
      "metadata": {
        "id": "UQJJpWLvDi_B"
      }
    },
    {
      "cell_type": "code",
      "source": [
        "!pip install geopandas"
      ],
      "metadata": {
        "id": "K_6Kia5TdvB3"
      },
      "execution_count": null,
      "outputs": []
    },
    {
      "cell_type": "code",
      "source": [
        "# To install geopandas library, run the command below\n",
        "#!pip install geopandas\n",
        "\n",
        "import geopandas as gpd\n",
        "\n",
        "# world is a GeoDataFrame object\n",
        "world = gpd.read_file(gpd.datasets.get_path('naturalearth_lowres'))\n",
        "world = world[(world.name!=\"Antarctica\")]\n",
        "world.head()"
      ],
      "metadata": {
        "id": "2iR1TznMDmMT"
      },
      "execution_count": null,
      "outputs": []
    },
    {
      "cell_type": "code",
      "source": [
        "# Your Code\n",
        "countries = []\n",
        "satisfactions = []\n",
        "for i in range(len(world)):\n",
        "  country = world[\"name\"].iloc[i]\n",
        "  countries.append(country)\n",
        "  satisfactions.append(new_df[new_df[\"Country\"] == country][\"JobSatisfaction\"].mean())\n",
        "\n",
        "country_df = pd.DataFrame({\"name\" : countries,\n",
        "                           \"satisfaction\" : satisfactions})\n",
        "world = world.merge(country_df)\n",
        "\n",
        "fig,ax = plt.subplots(1,1,figsize=(20,5))\n",
        "world.plot(column=\"satisfaction\", cmap=\"OrRd\", legend=True, ax=ax, missing_kwds=dict(color = \"lightgrey\",))\n",
        "\n",
        "plt.title(\"Job Satisfaction Around the World\")\n",
        "plt.show()"
      ],
      "metadata": {
        "id": "boAfPa_bDnsA"
      },
      "execution_count": null,
      "outputs": []
    }
  ]
}