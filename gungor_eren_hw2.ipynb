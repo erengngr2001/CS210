{
  "nbformat": 4,
  "nbformat_minor": 0,
  "metadata": {
    "colab": {
      "provenance": []
    },
    "kernelspec": {
      "name": "python3",
      "display_name": "Python 3"
    },
    "language_info": {
      "name": "python"
    }
  },
  "cells": [
    {
      "cell_type": "markdown",
      "source": [
        "# Homework 2 - Data Wrangling\n",
        "\n",
        "\n",
        "*In this homework, you are going to work on a real-world dataset and perform some data transformations. We suggest you start the homework early.*\n",
        "\n",
        "**Submission Instructions**\n",
        "\n",
        "---\n",
        "It is important that you follow the submission instructions. \n",
        "1. Copy this assignment notebook to your Drive. <font color = 'red'> `File` --> `Save a copy in Drive`</font>. Rename it as <font color = 'green'>`Lastname_Firstname_hw2`</font>.\n",
        "\n",
        "2. Write your solutions in the cells  marked as <font color = 'green'>`# your code`</font>.\n",
        "\n",
        "3. **Do not delete your outputs**. They are essential for the grading. Make sure that cells containing your solutions are executed, and the results are displayed on the notebook.\n",
        "\n",
        "4. When you're done please submit your solutions as an <font color=\"red\">`.ipynb`</font> file. To do so:\n",
        "\n",
        "\n",
        "  a. Click on <font color=\"red\">`File`</font>  at the top left on the Colab screen, then click on <font color = 'red'>`Download .ipynb`</font>.\n",
        "\n",
        "  b. Then submit the downloaded <font color=\"red\">`.ipynb`</font> version of your work on SUCourse.\n",
        "\n",
        "\n",
        "For any question, please use the discussion page on Sucourse.\n",
        "\n",
        "---\n",
        "\n",
        "**Important Note: In this homework, you are not allowed to use Pandas.**"
      ],
      "metadata": {
        "id": "bzLXvNMN_gYM"
      }
    },
    {
      "cell_type": "markdown",
      "source": [
        "In this homework, you will work on a dataset from [Kaggle-Medium-2021-Data-Science-Articles](https://www.kaggle.com/datasets/viniciuslambert/medium-2021-data-science-articles-dataset). The dataset contains information on data science articles shared on Medium.com in 2021.\n",
        "\n",
        "For this homework, you will use the provided file `Medium_DS_Articles_2021_Dataset.csv`. This is a modified version of the original dataset.\n",
        "<!-- This is not the original data file, we modified and eliminated some parts. -->\n",
        "\n",
        "In the dataset, each row has 7 attribute values separated with `,`. These attributes are described in the list below with their respective order in the dataset.\n",
        "\n",
        "\n",
        "  1.   **url:** Refers to the url of the article\n",
        "\n",
        "  2.   **author:** Who has written the article\n",
        "\n",
        "  3.   **claps** Similar to \"Likes\" on Social Media\n",
        "\n",
        "  4.   **responses:** Comments written to the articles\n",
        "  \n",
        "  5.   **reading_time:** Reading time of articles recorded by Medium.com (In minutes)\n",
        "  \n",
        "  6.   **date:** The date the article was written\n",
        "\n",
        "\n",
        "A snapshot from the dataset containing three sample rows is also provided below.\n",
        "```\n",
        "['https://medium.com/@sellforte-insights/bayesian-data-analysis-a-brave-new-world-of-statistics-1fc3167812d7','sellforte-insights', '0.0', '0.0', '9-min', 'Data Science','2021-05-19']\n",
        "['https://towardsdatascience.com/how-to-improve-deep-learning-forecasts-for-time-series-part-2-c11efc8dfee2','michaelberk', '106.0', '0.0', '5-min', 'Machine Learning','2021-10-26']\n",
        "['https://medium.com/@paulshin17/intro-on-linear-regression-using-keras-predicting-real-estate-price-f0e94de1b912','paulshin17', '107.0', '0.0', '6-min', 'Data Science','2021-10-18']\n",
        "...\n",
        "```\n",
        "\n",
        "*Do not forget to add the shared `Medium_DS_Articles_2021_Dataset.csv` file to your drive and mount to your drive. Otherwise, you won't be able to read the file.*\n",
        "\n",
        "**!!!IMPORTANT: You are not allowed to use `pandas` in this homework**"
      ],
      "metadata": {
        "id": "kfiyUPnr_jYG"
      }
    },
    {
      "cell_type": "code",
      "source": [
        "from google.colab import drive\n",
        "drive.mount('./drive', force_remount=True)\n",
        "\n",
        "path_prefix = './drive/My Drive'"
      ],
      "metadata": {
        "id": "EVlcLWud_ist",
        "colab": {
          "base_uri": "https://localhost:8080/"
        },
        "outputId": "5aacf64e-58fe-41bb-e419-ba4436d177d9"
      },
      "execution_count": null,
      "outputs": [
        {
          "output_type": "stream",
          "name": "stdout",
          "text": [
            "Mounted at ./drive\n"
          ]
        }
      ]
    },
    {
      "cell_type": "code",
      "source": [
        "import numpy as np\n",
        "import matplotlib.pyplot as plt\n",
        "import re\n",
        "import csv\n",
        "\n",
        "%matplotlib inline"
      ],
      "metadata": {
        "id": "30e5ET0u_rKp"
      },
      "execution_count": null,
      "outputs": []
    },
    {
      "cell_type": "markdown",
      "source": [
        "## 10 Points - Q1: Read the Dataset\n",
        "\n",
        "In the provided dataset, entries are separated by commas. Read and store the file as a 2D numpy array. Each column should capture the corresponding fields.\n",
        "\n",
        "- Read the given file into a numpy array.\n",
        "- Print the number of rows and columns.\n",
        "- Print the number of unique Tags.\n",
        "\n",
        "Example Output:\n",
        "```\n",
        "Number of rows: 36810, columns: 7\n",
        "Number of unique Tags: 8\n",
        "```\n",
        "\n",
        "*Hint: Do not forget to skip the first line (the header).*"
      ],
      "metadata": {
        "id": "FtwZhhnm_s3r"
      }
    },
    {
      "cell_type": "code",
      "source": [
        "# Your Code\n",
        "with open('./drive/My Drive/Medium_DS_Articles_2021_Dataset.csv', 'r') as f:\n",
        "  titles = f.readline().strip(\",\")\n",
        "  data = list(csv.reader(f, delimiter=\",\"))\n",
        " \n",
        "data = np.array(data)\n",
        "#print(data)\n",
        "num_rows = len(data)\n",
        "num_cols = len(data[0])\n",
        "print(\"Number of rows: {}, columns: {}.\".format(num_rows,num_cols))\n",
        "\n",
        "unique_length = len(set(data[:,5]))\n",
        "print(\"Number of unique Tags: {}\".format(unique_length))\n"
      ],
      "metadata": {
        "id": "QyDPMaYz_vJs",
        "colab": {
          "base_uri": "https://localhost:8080/"
        },
        "outputId": "e34b08bf-7e92-49cb-c1e7-70226c63bea9"
      },
      "execution_count": null,
      "outputs": [
        {
          "output_type": "stream",
          "name": "stdout",
          "text": [
            "Number of rows: 36810, columns: 7.\n",
            "Number of unique Tags: 8\n"
          ]
        }
      ]
    },
    {
      "cell_type": "code",
      "source": [
        "csv."
      ],
      "metadata": {
        "colab": {
          "base_uri": "https://localhost:8080/"
        },
        "id": "hAxW9_3o_krM",
        "outputId": "97513761-ce3b-43cd-8018-23f2fdb4b49b"
      },
      "execution_count": null,
      "outputs": [
        {
          "output_type": "execute_result",
          "data": {
            "text/plain": [
              "array([['https://medium.com/@sellforte-insights/bayesian-data-analysis-a-brave-new-world-of-statistics-1fc3167812d7',\n",
              "        'sellforte-insights', '0.0', ..., '9-min', 'Data Science',\n",
              "        '2021-05-19'],\n",
              "       ['https://towardsdatascience.com/how-to-improve-deep-learning-forecasts-for-time-series-part-2-c11efc8dfee2',\n",
              "        'michaelberk', '106.0', ..., '5-min', 'Machine Learning',\n",
              "        '2021-10-26'],\n",
              "       ['https://medium.com/@paulshin17/intro-on-linear-regression-using-keras-predicting-real-estate-price-f0e94de1b912',\n",
              "        'paulshin17', '107.0', ..., '6-min', 'Data Science',\n",
              "        '2021-10-18'],\n",
              "       ...,\n",
              "       ['https://medium.com/@dhirajkumarblog/self-attention-bottleneck-for-transformers-deep-learning-models-1ec5aeb2c9b9',\n",
              "        'dhirajkumarblog', '0.0', ..., '1-min', 'Deep Learning',\n",
              "        '2021-01-08'],\n",
              "       ['https://medium.com/kaggle-nyc/linear-model-selection-and-regularization-islr-series-chapter-6-61976fbd9723',\n",
              "        'taraqur', '15.0', ..., '4-min', 'Data Science', '2021-07-08'],\n",
              "       ['https://medium.com/@tzjy/4-typical-sampling-methods-you-need-for-data-science-jobs-python-code-included-b003feb6504b',\n",
              "        'tzjy', '55.0', ..., '6-min', 'Data Science', '2021-10-19']],\n",
              "      dtype='<U865')"
            ]
          },
          "metadata": {},
          "execution_count": 4
        }
      ]
    },
    {
      "cell_type": "markdown",
      "source": [
        "## 30 Points - Q2: Exploring Dataset"
      ],
      "metadata": {
        "id": "G6iSBqFE_1PI"
      }
    },
    {
      "cell_type": "markdown",
      "source": [
        "### 15 Points - Part A\n",
        "\n",
        "The tag field makes it easy to find the articles on the related topic. Examining the tags used in articles written in 2021 can give us information about which field has become more popular.\n",
        "\n",
        "- Print the name of each unique Tag and its frequency in data from the most frequent to least\n",
        "\n",
        "Example output:\n",
        "```\n",
        "Data Science           -   9033\n",
        "Machine Learning       -   7732\n",
        "Artificial Inteligence -   7552\n",
        "Data                   -   4810\n",
        "Deep Learning          -   2903\n",
        "X                      -   1674\n",
        "Big Data               -   1579\n",
        "Analytics              -   1527\n",
        "```"
      ],
      "metadata": {
        "id": "_9qqI1_X_3i0"
      }
    },
    {
      "cell_type": "code",
      "source": [
        "# Your Code\n",
        "unique_tag_counts = np.unique(data[:,5], return_counts=True)\n",
        "myDict = {}\n",
        "for i in range(unique_length):\n",
        "  myDict[unique_tag_counts[0][i]] = [ unique_tag_counts[1][i] ]\n",
        "\n",
        "myDict = dict(sorted(myDict.items(), key=lambda item: item[1], reverse=True))\n",
        "for i in range(unique_length):\n",
        "  key = list(myDict.keys())[i]\n",
        "  value = list(myDict.values())[i][0]\n",
        "  print(key, \" \"*(23-len(key)), \"- \", value)"
      ],
      "metadata": {
        "id": "wU1NkEAM_6ee",
        "colab": {
          "base_uri": "https://localhost:8080/"
        },
        "outputId": "6a962403-b512-4d11-ce8f-1f482ca9188f"
      },
      "execution_count": null,
      "outputs": [
        {
          "output_type": "stream",
          "name": "stdout",
          "text": [
            "Data Science             -  9033\n",
            "Machine Learning         -  7732\n",
            "Artificial Inteligence   -  7552\n",
            "Data                     -  4810\n",
            "Deep Learning            -  2903\n",
            "X                        -  1674\n",
            "Big Data                 -  1579\n",
            "Analytics                -  1527\n"
          ]
        }
      ]
    },
    {
      "cell_type": "markdown",
      "source": [
        "### 15 Points - Part B\n",
        "\n",
        "When we examined the frequency of the tags, we learned that more articles were written about which topic. But there is a tag called '**X**' and we don't know what it means. We may want to check the rows containing this Tag and examine what they are. When we examine these, we see they all have the similar structure and there is something strange in the '**date**' field. We want you to rearrange these corrupted date fields so that every '**date**' value in the same format.\n",
        "\n",
        "**Note:** Some of the examples can be seen below where %Y represents years (e.g. 2022, 2021), %m month as a zero-padded decimal number (e.g. 07, 08) and %d day of the month as a zero-padded decimal number (e.g. 01, 03). You may assume that the order of date elements is always the same in the raw data: %Y %m %d.\n",
        "\n",
        "\n",
        "Corrupted Date formats are as follows:\n",
        "```\n",
        "'(%Y)::(%m)::(%d)', \n",
        "'%Y %m %d'\n",
        "```\n",
        "You **MUST** use **regular expressions** for this question. (Use the **re** library of Python)\n",
        "- Write a **function** that checks the format of date feature and returns True if all observations are in the expected format, otherwise returns False.\n",
        "    - **Name of the function**: validate_date_format\n",
        "    - **Input**: Date column\n",
        "    - **Output**: True if all date values are in the expected format (%Y-%m-%d --- 2022-10-22), otherwise False\n",
        "- Then, convert the **date** feature to the expected format.\n",
        "\n",
        "```\n",
        "Expected Date Format: '%Y-%m-%d' --> '2022-10-22'\n",
        "```"
      ],
      "metadata": {
        "id": "xOlWyha___nz"
      }
    },
    {
      "cell_type": "code",
      "source": [
        "data"
      ],
      "metadata": {
        "id": "BXend3jtWGS3"
      },
      "execution_count": null,
      "outputs": []
    },
    {
      "cell_type": "code",
      "source": [
        "data[30]"
      ],
      "metadata": {
        "id": "gGQ9r5ZFTuDQ"
      },
      "execution_count": null,
      "outputs": []
    },
    {
      "cell_type": "code",
      "source": [
        "myDict"
      ],
      "metadata": {
        "id": "lWENMnPdm2xx"
      },
      "execution_count": null,
      "outputs": []
    },
    {
      "cell_type": "code",
      "source": [
        "# # Your Code\n",
        "import re\n",
        "# for i in range(unique_length):\n",
        "#   dateDict[list(data.keys())[i]] = [\"\"]\n",
        "# for i in range(len(list(data[:,5]))):\n",
        "\n",
        "#pattern = re.compile(\"(\\d{4})+([^ ]|(::))+(\\d{2})+([^ ]|(::))+(\\d{2})+([^ ]|(::))\")\n",
        "for i in range(len(data)):\n",
        "  if \"X\" == data[i][5]:\n",
        "    text = data[i][6]\n",
        "    my_match = re.findall(r\"\\b\\d+\\b\", text)\n",
        "    cleaned_date = my_match[0] + \"-\" + my_match[1] + \"-\" +my_match[2]\n",
        "    data[i][6] = cleaned_date\n",
        "\n",
        "#print(data)\n",
        "\n",
        "def check_format(data):\n",
        "  check = True\n",
        "  rule = re.compile(\"\\d{4}.*\\d{2}.*\\d{2}\")\n",
        "  for i in range(len(data)): \n",
        "    text = data[i][6]\n",
        "    my_match = rule.search(text)\n",
        "    if my_match.group() != text:\n",
        "      return False\n",
        "  return True\n",
        "\n",
        "check_format(data)"
      ],
      "metadata": {
        "id": "VlSC1Ja-ACSz",
        "colab": {
          "base_uri": "https://localhost:8080/"
        },
        "outputId": "fdee9a69-6746-4ab9-c037-cbf1b2f21e34"
      },
      "execution_count": null,
      "outputs": [
        {
          "output_type": "execute_result",
          "data": {
            "text/plain": [
              "True"
            ]
          },
          "metadata": {},
          "execution_count": 68
        }
      ]
    },
    {
      "cell_type": "markdown",
      "source": [
        "## 20 Points - Q3: Cleaning Data\n",
        "\n",
        "We learned that there are some removed articles. In Q2 Part B, we rearranged the format of the date feature. In this part, we will examine in which month more articles were deleted.\n",
        "\n",
        "- Display the total number of deleted articles per each month as a bar chart\n",
        "- At the end, delete these removed articles from the dataset\n",
        "\n"
      ],
      "metadata": {
        "id": "eB8OLrnJAIKa"
      }
    },
    {
      "cell_type": "code",
      "source": [
        "# Your Code\n",
        "newDict = {}\n",
        "data_to_delete = []\n",
        "for i in range(12):\n",
        "  newDict[i+1] = 0\n",
        "\n",
        "\n",
        "for i in range(len(data)):\n",
        "  if \"X\" == data[i][5]:\n",
        "    month = int(data[i][6][5:7])\n",
        "    newDict[month] += 1\n",
        "    data_to_delete.append(i)\n",
        "\n",
        "new_data = np.delete(data, data_to_delete, axis=0)\n",
        "\n",
        "print(newDict)\n",
        "print(data)\n",
        "\n",
        "plt.bar(list(newDict.keys()), list(newDict.values()), color='green')\n",
        "plt.xlabel(\"Months\")\n",
        "plt.ylabel(\"Values\")\n",
        "plt.title(\"Aylara göre şeyler\")\n",
        "\n",
        "plt.show()\n"
      ],
      "metadata": {
        "id": "6mBB_RZuAKk2",
        "colab": {
          "base_uri": "https://localhost:8080/",
          "height": 538
        },
        "outputId": "3bd4e030-a022-46ef-9e3b-f945fcf7417f"
      },
      "execution_count": null,
      "outputs": [
        {
          "output_type": "stream",
          "name": "stdout",
          "text": [
            "{1: 153, 2: 54, 3: 79, 4: 141, 5: 144, 6: 86, 7: 75, 8: 99, 9: 117, 10: 217, 11: 244, 12: 265}\n",
            "[['https://medium.com/@sellforte-insights/bayesian-data-analysis-a-brave-new-world-of-statistics-1fc3167812d7'\n",
            "  'sellforte-insights' '0.0' ... '9-min' 'Data Science' '2021-05-19']\n",
            " ['https://towardsdatascience.com/how-to-improve-deep-learning-forecasts-for-time-series-part-2-c11efc8dfee2'\n",
            "  'michaelberk' '106.0' ... '5-min' 'Machine Learning' '2021-10-26']\n",
            " ['https://medium.com/@paulshin17/intro-on-linear-regression-using-keras-predicting-real-estate-price-f0e94de1b912'\n",
            "  'paulshin17' '107.0' ... '6-min' 'Data Science' '2021-10-18']\n",
            " ...\n",
            " ['https://medium.com/@dhirajkumarblog/self-attention-bottleneck-for-transformers-deep-learning-models-1ec5aeb2c9b9'\n",
            "  'dhirajkumarblog' '0.0' ... '1-min' 'Deep Learning' '2021-01-08']\n",
            " ['https://medium.com/kaggle-nyc/linear-model-selection-and-regularization-islr-series-chapter-6-61976fbd9723'\n",
            "  'taraqur' '15.0' ... '4-min' 'Data Science' '2021-07-08']\n",
            " ['https://medium.com/@tzjy/4-typical-sampling-methods-you-need-for-data-science-jobs-python-code-included-b003feb6504b'\n",
            "  'tzjy' '55.0' ... '6-min' 'Data Science' '2021-10-19']]\n"
          ]
        },
        {
          "output_type": "display_data",
          "data": {
            "text/plain": [
              "<Figure size 432x288 with 1 Axes>"
            ],
            "image/png": "[encoded data removed]"
          },
          "metadata": {
            "needs_background": "light"
          }
        }
      ]
    },
    {
      "cell_type": "markdown",
      "source": [
        "## 40 Points - Q4: Features of Medium Articles"
      ],
      "metadata": {
        "id": "T1Fc4ZoXAPiX"
      }
    },
    {
      "cell_type": "markdown",
      "source": [
        "### 10 Points - Part A\n",
        "\n",
        "In this question, we will examine the different features of the articles on Medium. In Q3, we deleted the removed articles to examine the data that is not missing. First, let's check the new shape of our dataset.\n",
        "\n",
        "- Print the new number of rows and columns after dropping missing values.\n",
        "\n",
        "Medium has reading times calculated automatically by the site's own method which you can find in data. Take a quick look at the basic statistical information of this feature. \n",
        "\n",
        "- Print the maximum, minimum and average reading time of articles\n",
        "\n",
        "Example Output:\n",
        "```\n",
        "After cleaning, Number of rows: 35136, columns: 7\n",
        "Maximum reading time: 131.0\n",
        "Minimum reading time: 0.0\n",
        "Average reading time: 5.041182832422587\n",
        "```"
      ],
      "metadata": {
        "id": "qHnRYpO-ATY1"
      }
    },
    {
      "cell_type": "code",
      "source": [
        "new_data[0]"
      ],
      "metadata": {
        "id": "44aTePmjlsDL"
      },
      "execution_count": null,
      "outputs": []
    },
    {
      "cell_type": "code",
      "source": [
        "new_data[:,4]"
      ],
      "metadata": {
        "id": "VkQA8SNNglPF"
      },
      "execution_count": null,
      "outputs": []
    },
    {
      "cell_type": "code",
      "source": [
        "# Your Code\n",
        "print(\"After cleaning, Number of rows: {}, columns: {}\".format(len(new_data), len(new_data[0])))\n",
        "reading_time = []\n",
        "findNumRule = re.compile(r\"\\d+\")\n",
        "for i in range(len(new_data)):\n",
        "  minutes = findNumRule.search(new_data[i][4])\n",
        "  reading_time.append(float(minutes.group()))\n",
        "\n",
        "\n",
        "print(\"Maximum reading time: {}\".format(max(reading_time)))\n",
        "print(\"Minimum reading time: {}\".format(min(reading_time)))\n",
        "print(\"Average reading time: {}\".format(sum(reading_time) / len(reading_time)))\n"
      ],
      "metadata": {
        "id": "KCcTd0SyAVoi",
        "colab": {
          "base_uri": "https://localhost:8080/"
        },
        "outputId": "f4c95785-47c4-4067-fd9c-fe3c8255b247"
      },
      "execution_count": null,
      "outputs": [
        {
          "output_type": "stream",
          "name": "stdout",
          "text": [
            "After cleaning, Number of rows: 35136, columns: 7\n",
            "Maximum reading time: 131.0\n",
            "Minimum reading time: 0.0\n",
            "Average reading time: 5.041182832422587\n"
          ]
        }
      ]
    },
    {
      "cell_type": "markdown",
      "source": [
        "### 30 Points - Part B: Conditional Probability\n",
        "\n",
        "Claps and Responses show how many interaction an article get similar to likes and comments. We can find out which tag is likely to receive more interaction.\n",
        "\n",
        "$\\DeclareMathOperator*{\\argmax}{argmax} \\argmax\\limits_{\\small{tag} \\, \\in \\, \\text{Tag Category}}\\;P(\\text{Interaction}=\\text{1}|\\text{Tag Category}=\\text{tag})$\n",
        "\n",
        "- Add new column to data which shows '**interaction**' and its value is 1 if there is any interaction, otherwise 0.\n",
        "- For each tag category, calculate the conditional probability shown in the equation below.\n",
        "- Report the tag category that returns the highest conditional probability. \n",
        "- Print the tag category and its probability value.\n",
        "\n",
        "**Example Output:**\n",
        "```\n",
        "Data Science - 0.8334993911214437\n",
        "```"
      ],
      "metadata": {
        "id": "VhSXktqrAb8s"
      }
    },
    {
      "cell_type": "code",
      "source": [
        "# Your Code\n",
        "interaction_column = np.array([])\n",
        "del myDict[\"X\"]\n",
        "for i in range(len(new_data)):\n",
        "  currTitle = new_data[i][5]\n",
        "  reaction = new_data[i][2] + new_data[i][3]\n",
        "  if 0 == float(new_data[i][2]) and 0 == float(new_data[i][3]):\n",
        "    interaction_column = np.append(interaction_column, 0)\n",
        "  else:\n",
        "    interaction_column = np.append(interaction_column, 1)\n",
        "    if 1 == len(myDict[currTitle]):\n",
        "      myDict[currTitle] = np.append( myDict[currTitle], 1 )\n",
        "    elif 0 != reaction:\n",
        "      myDict[currTitle][1] += 1\n",
        "  \n",
        "interaction_column = interaction_column.reshape(len(interaction_column), -1)\n",
        "new_data = np.append(new_data, interaction_column, axis=1)\n",
        "\n",
        "\n",
        "for i in list(myDict.keys()):\n",
        "  title = i\n",
        "  probability = myDict[i][1] / myDict[i][0]\n",
        "  print(title, \" \"*(23-len(title)), \"- \", probability)"
      ],
      "metadata": {
        "id": "-SpHMvbAAcZs",
        "colab": {
          "base_uri": "https://localhost:8080/"
        },
        "outputId": "c3bafe58-0003-4d9c-9dd1-ddae8726e7eb"
      },
      "execution_count": null,
      "outputs": [
        {
          "output_type": "stream",
          "name": "stdout",
          "text": [
            "Data Science             -  0.8334993911214436\n",
            "Machine Learning         -  0.7955250905328505\n",
            "Artificial Inteligence   -  0.6514830508474576\n",
            "Data                     -  0.5031185031185031\n",
            "Deep Learning            -  0.8219083706510506\n",
            "Big Data                 -  0.578214059531349\n",
            "Analytics                -  0.5795677799607073\n"
          ]
        }
      ]
    },
    {
      "cell_type": "code",
      "source": [
        "myDict"
      ],
      "metadata": {
        "id": "wd9pLvUFoNvs"
      },
      "execution_count": null,
      "outputs": []
    },
    {
      "cell_type": "code",
      "source": [
        "interaction_column"
      ],
      "metadata": {
        "id": "Ibz-mPOmpa-4"
      },
      "execution_count": null,
      "outputs": []
    },
    {
      "cell_type": "code",
      "source": [
        "new_data"
      ],
      "metadata": {
        "id": "eVUPpF5SnxPj"
      },
      "execution_count": null,
      "outputs": []
    }
  ]
}