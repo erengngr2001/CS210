{
  "nbformat": 4,
  "nbformat_minor": 0,
  "metadata": {
    "colab": {
      "provenance": []
    },
    "kernelspec": {
      "name": "python3",
      "display_name": "Python 3"
    }
  },
  "cells": [
    {
      "cell_type": "markdown",
      "metadata": {
        "id": "JD9gUM7WW8iT"
      },
      "source": [
        "# Homework 1 - Practicing Python\n",
        "\n",
        "\n",
        "*In the first homework, you are going to work on a set of Python exercises.*\n",
        "\n",
        "**Submission Instructions**\n",
        "\n",
        "---\n",
        "It is important that you follow the submission instructions. \n",
        "1. Copy this assignment notebook to your Drive. <font color = 'red'> `File` --> `Save a copy in Drive`</font>. Rename it as <font color = 'green'>`Lastname_Firstname_hw1`</font>.\n",
        "\n",
        "2. Write your solutions in the cells  marked <font color = 'green'>`# your code`</font>.\n",
        "\n",
        "3. Do not delete your outputs. They are essential for the grading. Make sure that cells containing your solutions are executed, and the results are displayed on the notebook.\n",
        "\n",
        "4. When you're done please submit your solutions as an <font color=\"red\">`.ipynb`</font> file. To do so:\n",
        "\n",
        "\n",
        "  a. Click on <font color=\"red\">`File`</font>  at the top left on the Colab screen, then click on <font color = 'red'>`Download .ipynb`</font>.\n",
        "\n",
        "  b. Then submit the downloaded <font color=\"red\">`.ipynb`</font> version of your work on SUCourse.\n",
        "\n",
        "\n",
        "For any question, you may send an email to the TAs and LAs.\n",
        "\n",
        "---\n",
        "\n",
        "**Important Note:**   \n",
        "In this homework, you do not need to use any libraries than the built-in ones. Hence, you are not allowed to use any libraries, other than the [`pprint`](https://docs.python.org/3/library/pprint.html) library to produce better looking outputs. If you have doubt on what to use what not to use please ask your question in the SuCourse Homework Q&A forum."
      ]
    },
    {
      "cell_type": "markdown",
      "metadata": {
        "id": "rYfw-eaiBOBJ"
      },
      "source": [
        "## 15 points - Q1: Find the E-mail, Given the TA\n",
        "\n",
        "In the cell below, you have two dictionaries. First dictionary containes the TA names as their keys, and their surnames as the values in the dictionary. Second dictionary holds the e-mail addresses for each TA.\n",
        "\n",
        "Here, your goal is to write a fuction named `print_TAs_info` that will return the name, surname and the email information. Example output is as follows:\n",
        "\n",
        "\n",
        "```py\n",
        ">>> print_TAs_info(ta_names_surnames,ta_mails)\n",
        "Deren Ege Turan derenege@sabanciuniv.edu\n",
        "Vahid Khalili Param vahid.khalili@sabanciuniv.edu\n",
        "Mert Pekey mpekey@sabanciuniv.edu\n",
        "```"
      ]
    },
    {
      "cell_type": "code",
      "metadata": {
        "id": "_RCO6nIyEpv1"
      },
      "source": [
        "ta_names_surnames = {'Deren Ege': 'Turan', 'Vahid Khalili': 'Param', 'Mert': 'Pekey'}\n",
        "ta_mails = {'Deren Ege': 'derenege@sabanciuniv.edu', 'Vahid Khalili': 'vahid.khalili@sabanciuniv.edu', 'Mert': 'mpekey@sabanciuniv.edu'}"
      ],
      "execution_count": null,
      "outputs": []
    },
    {
      "cell_type": "code",
      "metadata": {
        "id": "VsigiNj3FzgF"
      },
      "source": [
        "# your code\n",
        "def print_TAs_info(ta_names_surnames, ta_mails):\n",
        "  for i in range(len(ta_mails)):\n",
        "    name = list(ta_names_surnames)[i]\n",
        "    print(name, ta_names_surnames[name], ta_mails[name])"
      ],
      "execution_count": null,
      "outputs": []
    },
    {
      "cell_type": "code",
      "source": [
        "print_TAs_info(ta_names_surnames, ta_mails)"
      ],
      "metadata": {
        "colab": {
          "base_uri": "https://localhost:8080/"
        },
        "id": "LOcVuMvidFOS",
        "outputId": "fc9f7bc0-0b76-4d62-8f72-2dadcbbb8417"
      },
      "execution_count": null,
      "outputs": [
        {
          "output_type": "stream",
          "name": "stdout",
          "text": [
            "Deren Ege Turan derenege@sabanciuniv.edu\n",
            "Vahid Khalili Param vahid.khalili@sabanciuniv.edu\n",
            "Mert Pekey mpekey@sabanciuniv.edu\n"
          ]
        }
      ]
    },
    {
      "cell_type": "markdown",
      "metadata": {
        "id": "DwskSV1dAeoR"
      },
      "source": [
        "## 30 points - Q2: Inflation Rates\n",
        "\n",
        "Inflation rates measured by consumer price index for USA were taken from:\n",
        "https://www.kaggle.com/datasets/varpit94/us-inflation-data-updated-till-may-2021?resource=download\n",
        "\n",
        "Each line stores the month of the year, related consumer price index, seperated by a **comma**.\n",
        "\n",
        "In total, we have 1303 lines where the inflation rates are given monthly for years between 1913 and 2021.\n",
        "\n",
        "<a href=\"https://imgbb.com/\"><img src=\"https://i.ibb.co/hM5LGd9/inf-example.png\" alt=\"inf-example\" border=\"0\"></a>\n",
        "\n",
        "*Do not forget to add the shared file and then mount to your drive. Otherwise, you won't be able to read the file. If you do not know how, please go back to Week 1 recitation materials.*\n",
        "\n",
        "**Attention: You may want to transform the string to numbers by using float() function**"
      ]
    },
    {
      "cell_type": "markdown",
      "metadata": {
        "id": "EJdIEenmj6W_"
      },
      "source": [
        "### 15 points - **Part A**\n",
        "In this part, you should find the **maximum inflation rate change** between consecutive months by using the us_inf.csv file under assignment folder.\n",
        "\n",
        "At the end, the signature should have the similar signature as follows:\n",
        "\n",
        "```py\n",
        "Maximum inflation rate change is 5.882352941176478 between the dates: 01-06-1946 - 01-07-1946\n",
        "```\n",
        "\n",
        "\n",
        "\n"
      ]
    },
    {
      "cell_type": "code",
      "metadata": {
        "id": "tbaryKClTz5Z",
        "colab": {
          "base_uri": "https://localhost:8080/"
        },
        "outputId": "cd2f1e96-d7e5-4959-e455-7b314f007b4c"
      },
      "source": [
        "from google.colab import drive\n",
        "drive.mount(\"./drive/\", force_remount=True)"
      ],
      "execution_count": null,
      "outputs": [
        {
          "output_type": "stream",
          "name": "stdout",
          "text": [
            "Mounted at ./drive/\n"
          ]
        }
      ]
    },
    {
      "cell_type": "code",
      "metadata": {
        "id": "NnRDeA3_SPi0",
        "colab": {
          "base_uri": "https://localhost:8080/"
        },
        "outputId": "d55a45a2-ab74-4e1c-ebcf-007bb4e7e758"
      },
      "source": [
        "# your code\n",
        "arr = {}\n",
        "\n",
        "with open(\"./drive/My Drive/us_inf.csv\") as f:\n",
        "  for i in range(1303):\n",
        "    #print(f.readline())\n",
        "    string = f.readline()\n",
        "    #print(string)q\n",
        "    temp = string.strip().split(\",\")\n",
        "    #print(temp)\n",
        "    arr[temp[0]] = float(temp[1])\n",
        "    #print(arr)\n",
        "  #print(arr)\n",
        "diffList = []\n",
        "for i in range(1302):\n",
        "  diffList.append(list(arr.values())[i+1] - list(arr.values())[i])\n",
        "\n",
        "idx = diffList.index(max(diffList))\n",
        "print(\"Maximum inflation rate change is\", diffList[idx], \"between the dates:\", list(arr.keys())[idx], \"-\", list(arr.keys())[idx+1])"
      ],
      "execution_count": null,
      "outputs": [
        {
          "output_type": "stream",
          "name": "stdout",
          "text": [
            "Maximum inflation rate change is 2.501000000000033 between the dates: 01-05-2021 - 01-06-2021\n"
          ]
        }
      ]
    },
    {
      "cell_type": "code",
      "source": [
        "arr"
      ],
      "metadata": {
        "id": "dxgoAS0pkxr2"
      },
      "execution_count": null,
      "outputs": []
    },
    {
      "cell_type": "code",
      "source": [
        "list(arr.keys())"
      ],
      "metadata": {
        "id": "BNrrCGh6u8SD"
      },
      "execution_count": null,
      "outputs": []
    },
    {
      "cell_type": "markdown",
      "metadata": {
        "id": "pIBUWMoXSSwr"
      },
      "source": [
        "### 15 points - **Part B**\n",
        "\n",
        "Find the mean of changes of the inflation rates in USA between the consecutive dates.\n",
        "\n",
        "Expected output is as follows:\n",
        "\n",
        "```py\n",
        "Mean of changes of the inflation rates is: 0.20199769762087488\n",
        "```\n"
      ]
    },
    {
      "cell_type": "code",
      "metadata": {
        "id": "laBFy2HkSXpC",
        "colab": {
          "base_uri": "https://localhost:8080/"
        },
        "outputId": "326002ce-18e7-4d15-edc9-9564a1da2f66"
      },
      "source": [
        "# your code\n",
        "mean = sum(diffList) / len(diffList)\n",
        "print(\"Mean of changes of the inflation rates is:\", mean)"
      ],
      "execution_count": null,
      "outputs": [
        {
          "output_type": "stream",
          "name": "stdout",
          "text": [
            "Mean of changes of the inflation rates is: 0.202152841781874\n"
          ]
        }
      ]
    },
    {
      "cell_type": "markdown",
      "metadata": {
        "id": "srIzF7eJYUAW"
      },
      "source": [
        "## 25 points - Q3: Matrix Multiplication \n",
        "\n",
        "List/array reshaping is one of the most fundamental operations in data manipulation. In the figure below, you see a 4x3 dimensional list of lists (a list that contains lists) named `a` that has integers from 1 to 12. We can take another matrix `b` of the form 3x2 dimensional list of lists and multiply them and create a new list of list of size 4x2. \n",
        "\n",
        "![](https://i.ibb.co/hHWcdBQ/mm-drawio-nt3.png)\n",
        "\n",
        "By referencing the figure above, write a function named `matrix_multiplication` which will find the multiplication of the given two matrices. At the end, it should return the resulting matrix.\n",
        "\n",
        "```py\n",
        ">>> a = [[1,2],\n",
        "         [3,4],\n",
        "         [5,6],\n",
        "         [7,8]]\n",
        ">>> b = [[9,10,11],\n",
        "         [12,13,14]]\n",
        ">>> matrix_multiplication(a,b)\n",
        "33\t36\t39\t\n",
        "75\t82\t89\t\n",
        "117\t128\t139\t\n",
        "159\t174\t189\n",
        "```\n",
        "\n",
        "If the given list of lists do not represent a proper matrix (e.g., [[1,2], [3,4,5]] then, it should print \"Not a proper matrix\" and return None, if the number of columns of the first matrix is not equal to the number of the rows of the second matrix, it should again print \"Not suitable for multiplication\" and return None. \n",
        "\n",
        "```py\n",
        ">>> a = [[1, 2, 3], [5, 6]]\n",
        ">>> b = [[1, 2, 3], [4, 5, 6]]\n",
        ">>> matrix_multiplication(x,y)\n",
        "\"Not a proper matrix\"\n",
        "\n",
        ">>> a = [[1, 2, 3], [4, 5, 6]]\n",
        ">>> b = [[1, 2, 3], [4, 5, 6]]\n",
        ">>> matrix_multiplication(arr)\n",
        "\"Not suitable for multiplication\"\n",
        "```"
      ]
    },
    {
      "cell_type": "code",
      "metadata": {
        "id": "iZgKbmvbZM61"
      },
      "source": [
        "# 4x2 matrix\n",
        "a = [[1, 2],\n",
        "     [3, 4],\n",
        "     [5, 6],\n",
        "     [7, 8]]\n",
        "# 2x3 matrix\n",
        "b = [[9,10,11],\n",
        "     [12,13,14]]\n",
        "# result is 4x3\n"
      ],
      "execution_count": null,
      "outputs": []
    },
    {
      "cell_type": "code",
      "source": [
        "# your code\n",
        "def matrix_multiplication(a,b):\n",
        "  check = True\n",
        "\n",
        "  #Check if the first matrix is proper\n",
        "  len_a = len(a[0])\n",
        "  for i in range(len(a)):\n",
        "    if len(a[i]) != len_a:\n",
        "      check = False\n",
        "  if True == check:\n",
        "    control_length = len(a[0])\n",
        "  else:\n",
        "    print(\"Not a proper matrix\")\n",
        "    return\n",
        "\n",
        "  #Check if the second matrix is proper\n",
        "  len_b = len(b[0])\n",
        "  for i in range(len(b)-1):\n",
        "    if len(b[i]) != len_b:\n",
        "      check = False\n",
        "  if True != check:\n",
        "    print(\"Not a proper matrix\")\n",
        "    return\n",
        "    \n",
        "\n",
        "  #Check if the two matrices match for multiplication\n",
        "  if True != (control_length == len(b)):\n",
        "    print(\"Not suitable for multiplication\")\n",
        "    return\n",
        "  else:\n",
        "    rows = len(a)\n",
        "    cols = len(b[0])\n",
        "    #Create a template matrix with zeros\n",
        "    matrix = []\n",
        "    for i in range(rows):\n",
        "      temp_arr = []\n",
        "      for j in range(cols):\n",
        "        temp_arr.append(0)\n",
        "      matrix.append(temp_arr)\n",
        "\n",
        "  #Do the actual multiplication and add to corresponding index on matrix\n",
        "  for i in range(len(matrix)): #for each row of matrix\n",
        "    for j in range(len(matrix[i])): #for each column of matrix\n",
        "      for t in range(len(b)): #for each a(ij)\n",
        "        matrix[i][j] += ( a[i][t]*b[t][j] )\n",
        "\n",
        "  for i in matrix:\n",
        "    for j in i: \n",
        "      print(j, \"\\t\", end=\"\")\n",
        "    print()"
      ],
      "metadata": {
        "id": "0nUxArKRrYWG"
      },
      "execution_count": null,
      "outputs": []
    },
    {
      "cell_type": "code",
      "source": [
        "matrix_multiplication(a,b)"
      ],
      "metadata": {
        "colab": {
          "base_uri": "https://localhost:8080/"
        },
        "id": "slZhDv35G3tE",
        "outputId": "cb59d934-d5c3-4c72-9273-d3f3b79df02b"
      },
      "execution_count": null,
      "outputs": [
        {
          "output_type": "stream",
          "name": "stdout",
          "text": [
            "33 \t36 \t39 \t\n",
            "75 \t82 \t89 \t\n",
            "117 \t128 \t139 \t\n",
            "159 \t174 \t189 \t\n"
          ]
        }
      ]
    },
    {
      "cell_type": "markdown",
      "metadata": {
        "id": "_0FzjI4Li18J"
      },
      "source": [
        "## 30 points - Q4: Top k Frequent Words in a File\n",
        "\n",
        "\n",
        "In the shared assignment folder, you have a file named sherlock.txt which stores the famous book written by Arhurt Conan Doyle.\n",
        "\n",
        "Write a function named top_k_frequent_words which will take a file name as it's parameter and an integer k that is how many frequent words that we are going to return. Function reads the text file and returns the most k frequent words and how many times they have occured in that file. After finding the top_k_frequent_words, report mean, median and std(sample) between their frequencies. \\\\\n",
        "Hint: Remove the symbols such as: [. , ? ! ; : \\n] \\\\\n",
        "Example signature is as follows: (here k=5)\n",
        "\n",
        "```py\n",
        ">>> top_k_frequent_words(\"file_path\",5)\n",
        "\"the\" occured 5704 times\n",
        "\"and\" occured 2939 times\n",
        "\"of\" occured 2762 times\n",
        "\"to\" occured 2733 times\n",
        "\"a\" occured 2651 times\n",
        "mean: 3357.8\n",
        "median: 2762\n",
        "std: 1315.7665826429854\n",
        "```\n",
        "\n",
        "*Do not forget to add the shared file and then mount to your drive. Otherwise, you won't be able to read the file.*"
      ]
    },
    {
      "cell_type": "code",
      "source": [
        "from google.colab import drive\n",
        "drive.mount(\"./drive/\", force_remount=True)"
      ],
      "metadata": {
        "colab": {
          "base_uri": "https://localhost:8080/"
        },
        "id": "X1RSiwKLNLKw",
        "outputId": "3c5b73e5-6475-4574-db3c-e8121a128279"
      },
      "execution_count": null,
      "outputs": [
        {
          "output_type": "stream",
          "name": "stdout",
          "text": [
            "Mounted at ./drive/\n"
          ]
        }
      ]
    },
    {
      "cell_type": "code",
      "source": [
        "# Your code\n",
        "def top_k_frequent_words(file_path, k):\n",
        "  arr = {}\n",
        "\n",
        "  with open(file_path, \"r\") as f:\n",
        "    for line in f:\n",
        "      for word in line.split():\n",
        "        temp_word = word.split(\". , ? ! ; : \\n\")\n",
        "        temp_word = temp_word[0]\n",
        "        if temp_word not in arr:\n",
        "          arr[temp_word] = 1\n",
        "        else:\n",
        "          arr[temp_word] = arr[temp_word] + 1\n",
        "  myList = list(arr.values())\n",
        "  for i in range(k):\n",
        "    max_rep = max(myList)   #Maximum repetition number\n",
        "    idx = myList.index(max_rep)\n",
        "    max_rep_word = list(arr)[idx]   #Maximum repeating word\n",
        "    print(\"\\\"{}\\\" occured {} times\".format(max_rep_word, max_rep))\n",
        "    myList.remove(max_rep)\n",
        "    del arr[max_rep_word]"
      ],
      "metadata": {
        "id": "UQuPrNXLNxNL"
      },
      "execution_count": null,
      "outputs": []
    },
    {
      "cell_type": "code",
      "source": [
        "top_k_frequent_words(\"./drive/My Drive/sherlock.txt\", 5)"
      ],
      "metadata": {
        "colab": {
          "base_uri": "https://localhost:8080/"
        },
        "id": "tmgK7_zuSQhW",
        "outputId": "e8c12698-8e92-4639-98f0-01bfeeac53d7"
      },
      "execution_count": null,
      "outputs": [
        {
          "output_type": "stream",
          "name": "stdout",
          "text": [
            "\"the\" occured 5404 times\n",
            "\"and\" occured 2798 times\n",
            "\"of\" occured 2720 times\n",
            "\"to\" occured 2700 times\n",
            "\"a\" occured 2575 times\n"
          ]
        }
      ]
    }
  ]
}